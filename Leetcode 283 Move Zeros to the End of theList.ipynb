{
 "cells": [
  {
   "cell_type": "code",
   "execution_count": 1,
   "id": "63cffc85",
   "metadata": {},
   "outputs": [
    {
     "name": "stdout",
     "output_type": "stream",
     "text": [
      "[1, 2, 3, 5, 1, 0, 0, 0]\n"
     ]
    }
   ],
   "source": [
    "# Brutefull solution \n",
    "nums = [ 1, 0, 2, 0, 0, 3, 5, 1]\n",
    "\n",
    "n = len(nums)\n",
    "\n",
    "temp = []\n",
    "for i in range(0, n):\n",
    "    if nums[i] != 0:\n",
    "        temp.append(nums[i])\n",
    "\n",
    "ntemp = len(temp)\n",
    "\n",
    "for i in range(0, ntemp):\n",
    "    nums[i] = temp[i]\n",
    "\n",
    "for i in range(ntemp, n):\n",
    "    nums[i] = 0\n",
    "# Move Zeroes\n",
    "print(nums)\n"
   ]
  },
  {
   "cell_type": "code",
   "execution_count": 2,
   "id": "a2aa70d6",
   "metadata": {},
   "outputs": [
    {
     "name": "stdout",
     "output_type": "stream",
     "text": [
      "[1, 2, 3, 5, 1, 0, 0, 0]\n"
     ]
    }
   ],
   "source": [
    "# Optimal Solution\n",
    "nums = [ 1, 0, 2, 0, 0, 3, 5, 1]\n",
    "n = len(nums)\n",
    "j = 0\n",
    "for i in range(0, n):\n",
    "    if nums[i] != 0:\n",
    "        nums[j], nums[i] = nums[i], nums[j]\n",
    "        j += 1\n",
    "\n",
    "# Move Zeroes\n",
    "print(nums)"
   ]
  },
  {
   "cell_type": "code",
   "execution_count": null,
   "id": "2aa9cf2a",
   "metadata": {},
   "outputs": [
    {
     "name": "stdout",
     "output_type": "stream",
     "text": [
      "[1, 2, 3, 5, 1, 0, 0, 0]\n"
     ]
    }
   ],
   "source": [
    "class Solution:\n",
    "    def moveZeroes(self, nums) -> None:   \n",
    "        j = 0\n",
    "        for i in range(len(nums)):\n",
    "            if nums[i] != 0:\n",
    "                nums[j], nums[i] = nums[i], nums[j]\n",
    "                j += 1\n",
    "\n",
    "\n",
    "\n",
    "nums = [1, 0, 2, 0, 0, 3, 5, 1]\n",
    "Solution().moveZeroes(nums)\n",
    "print(nums)  \n"
   ]
  }
 ],
 "metadata": {
  "kernelspec": {
   "display_name": "myenv",
   "language": "python",
   "name": "python3"
  },
  "language_info": {
   "codemirror_mode": {
    "name": "ipython",
    "version": 3
   },
   "file_extension": ".py",
   "mimetype": "text/x-python",
   "name": "python",
   "nbconvert_exporter": "python",
   "pygments_lexer": "ipython3",
   "version": "3.9.23"
  }
 },
 "nbformat": 4,
 "nbformat_minor": 5
}
