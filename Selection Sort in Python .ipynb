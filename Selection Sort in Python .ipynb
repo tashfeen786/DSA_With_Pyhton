{
 "cells": [
  {
   "cell_type": "code",
   "execution_count": 1,
   "id": "37bff25a",
   "metadata": {},
   "outputs": [
    {
     "ename": "NameError",
     "evalue": "name 'n' is not defined",
     "output_type": "error",
     "traceback": [
      "\u001b[1;31m---------------------------------------------------------------------------\u001b[0m",
      "\u001b[1;31mNameError\u001b[0m                                 Traceback (most recent call last)",
      "Cell \u001b[1;32mIn[1], line 12\u001b[0m\n\u001b[0;32m     10\u001b[0m         nums[i], nums[min_index] \u001b[38;5;241m=\u001b[39m nums[min_index], nums[i]\n\u001b[0;32m     11\u001b[0m         \u001b[38;5;28;01mreturn\u001b[39;00m nums\n\u001b[1;32m---> 12\u001b[0m sort \u001b[38;5;241m=\u001b[39m \u001b[43mselection_sort\u001b[49m\u001b[43m(\u001b[49m\u001b[43mnums\u001b[49m\u001b[43m)\u001b[49m\n\u001b[0;32m     13\u001b[0m \u001b[38;5;28mprint\u001b[39m(\u001b[38;5;124m\"\u001b[39m\u001b[38;5;124mSorted array:\u001b[39m\u001b[38;5;124m\"\u001b[39m, sort)\n",
      "Cell \u001b[1;32mIn[1], line 5\u001b[0m, in \u001b[0;36mselection_sort\u001b[1;34m(nums)\u001b[0m\n\u001b[0;32m      4\u001b[0m \u001b[38;5;28;01mdef\u001b[39;00m\u001b[38;5;250m \u001b[39m\u001b[38;5;21mselection_sort\u001b[39m(nums):\n\u001b[1;32m----> 5\u001b[0m     \u001b[38;5;28;01mfor\u001b[39;00m i \u001b[38;5;129;01min\u001b[39;00m \u001b[38;5;28mrange\u001b[39m(\u001b[38;5;241m0\u001b[39m,\u001b[43mn\u001b[49m):\n\u001b[0;32m      6\u001b[0m         min_index \u001b[38;5;241m=\u001b[39m i\n\u001b[0;32m      7\u001b[0m         \u001b[38;5;28;01mfor\u001b[39;00m j \u001b[38;5;129;01min\u001b[39;00m \u001b[38;5;28mrange\u001b[39m(i \u001b[38;5;241m+\u001b[39m \u001b[38;5;241m1\u001b[39m, n):\n",
      "\u001b[1;31mNameError\u001b[0m: name 'n' is not defined"
     ]
    }
   ],
   "source": [
    "# Selection sort \n",
    "nums = [64, 25, 12, 22, 11]\n",
    "\n",
    "def selection_sort(nums):\n",
    "    for i in range(0,n):\n",
    "        min_index = i\n",
    "        for j in range(i + 1, n):\n",
    "            if nums[j] < nums[min_index]:\n",
    "                min_index = j \n",
    "        nums[i], nums[min_index] = nums[min_index], nums[i]\n",
    "        return nums\n",
    "sort = selection_sort(nums)\n",
    "print(\"Sorted array:\", sort)"
   ]
  }
 ],
 "metadata": {
  "kernelspec": {
   "display_name": "myenv",
   "language": "python",
   "name": "python3"
  },
  "language_info": {
   "codemirror_mode": {
    "name": "ipython",
    "version": 3
   },
   "file_extension": ".py",
   "mimetype": "text/x-python",
   "name": "python",
   "nbconvert_exporter": "python",
   "pygments_lexer": "ipython3",
   "version": "3.9.23"
  }
 },
 "nbformat": 4,
 "nbformat_minor": 5
}
