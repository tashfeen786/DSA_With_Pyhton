{
 "cells": [
  {
   "cell_type": "code",
   "execution_count": 3,
   "id": "dd314b07",
   "metadata": {},
   "outputs": [
    {
     "name": "stdout",
     "output_type": "stream",
     "text": [
      "99\n"
     ]
    }
   ],
   "source": [
    "# Find largest number in arrary \n",
    "nums = [99, 3, 6, 88, -87, 34]\n",
    "largest = nums[0]\n",
    "n = len(nums)\n",
    "for i in range(0, n):\n",
    "    largest = max(largest, nums[i])\n",
    "print(largest)"
   ]
  }
 ],
 "metadata": {
  "kernelspec": {
   "display_name": "myenv",
   "language": "python",
   "name": "python3"
  },
  "language_info": {
   "codemirror_mode": {
    "name": "ipython",
    "version": 3
   },
   "file_extension": ".py",
   "mimetype": "text/x-python",
   "name": "python",
   "nbconvert_exporter": "python",
   "pygments_lexer": "ipython3",
   "version": "3.9.23"
  }
 },
 "nbformat": 4,
 "nbformat_minor": 5
}
