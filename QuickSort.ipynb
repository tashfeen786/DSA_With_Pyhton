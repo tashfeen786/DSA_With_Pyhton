{
 "cells": [
  {
   "cell_type": "code",
   "execution_count": 2,
   "id": "aaa87d45",
   "metadata": {},
   "outputs": [
    {
     "name": "stdout",
     "output_type": "stream",
     "text": [
      "[1, 2, 3, 4, 6, 7, 8]\n"
     ]
    }
   ],
   "source": [
    "# Quick Sort \n",
    "nums = [4, 1, 7, 6, 3, 2, 8]\n",
    "n = len(nums)\n",
    "def partition(nums, low, high):\n",
    "    pivote = nums[low]\n",
    "    i = low\n",
    "    j = high\n",
    "    while i<j:\n",
    "        while nums[i]<=pivote and i<= high-1:\n",
    "            i+=1\n",
    "        while nums[j]>pivote and j>=low+1:\n",
    "            j-=1\n",
    "        if i<j:\n",
    "            nums[i],nums[j]= nums[j], nums[i]\n",
    "    nums[low],nums[j]= nums[j], nums[low]\n",
    "    return j\n",
    "\n",
    "def quick_sort(nums, low, high):\n",
    "    if low < high:\n",
    "        p_index = partition(nums, low, high)\n",
    "        quick_sort(nums, low, p_index-1)\n",
    "        quick_sort(nums, p_index + 1, high)\n",
    "\n",
    "quick_sort(nums, 0, n-1)\n",
    "print(nums)\n",
    "\n",
    "\n"
   ]
  }
 ],
 "metadata": {
  "kernelspec": {
   "display_name": "myenv",
   "language": "python",
   "name": "python3"
  },
  "language_info": {
   "codemirror_mode": {
    "name": "ipython",
    "version": 3
   },
   "file_extension": ".py",
   "mimetype": "text/x-python",
   "name": "python",
   "nbconvert_exporter": "python",
   "pygments_lexer": "ipython3",
   "version": "3.9.23"
  }
 },
 "nbformat": 4,
 "nbformat_minor": 5
}
