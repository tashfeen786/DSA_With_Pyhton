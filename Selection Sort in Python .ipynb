{
 "cells": [
  {
   "cell_type": "code",
   "execution_count": null,
   "id": "37bff25a",
   "metadata": {},
   "outputs": [],
   "source": [
    "# Selection sort \n",
    "nums = [64, 25, 12, 22, 11]\n",
    "\n",
    "def selection_sort(nums):\n",
    "    for i in range(0,n):\n",
    "        min_index = i\n",
    "        for j in range(i + 1, n):\n",
    "            if nums[j] < nums[min_index]:\n",
    "                min_index = j \n",
    "        nums[i], nums[min_index] = nums[min_index], nums[i]\n",
    "        return nums\n",
    "sort = selection_sort(nums)\n",
    "print(\"Sorted array:\", sort)"
   ]
  }
 ],
 "metadata": {
  "kernelspec": {
   "display_name": "myenv",
   "language": "python",
   "name": "python3"
  },
  "language_info": {
   "name": "python",
   "version": "3.9.23"
  }
 },
 "nbformat": 4,
 "nbformat_minor": 5
}
