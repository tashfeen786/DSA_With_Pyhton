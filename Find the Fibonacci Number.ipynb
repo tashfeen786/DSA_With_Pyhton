{
 "cells": [
  {
   "cell_type": "code",
   "execution_count": 14,
   "id": "8af374f0",
   "metadata": {},
   "outputs": [
    {
     "name": "stdout",
     "output_type": "stream",
     "text": [
      "55\n"
     ]
    }
   ],
   "source": [
    "class solution:\n",
    "    def func(self, num):\n",
    "        if num == 0 or num == 1:\n",
    "            return num\n",
    "        return self.func(num - 1) + self.func(num - 2)\n",
    "    def fib(self,n:int) -> int:\n",
    "        answer = self.func(n)\n",
    "        return answer\n",
    "print(solution().fib(10))  # Output: 5"
   ]
  }
 ],
 "metadata": {
  "kernelspec": {
   "display_name": "myenv",
   "language": "python",
   "name": "python3"
  },
  "language_info": {
   "codemirror_mode": {
    "name": "ipython",
    "version": 3
   },
   "file_extension": ".py",
   "mimetype": "text/x-python",
   "name": "python",
   "nbconvert_exporter": "python",
   "pygments_lexer": "ipython3",
   "version": "3.9.23"
  }
 },
 "nbformat": 4,
 "nbformat_minor": 5
}
