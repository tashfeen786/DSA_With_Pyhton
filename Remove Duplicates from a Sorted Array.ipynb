{
 "cells": [
  {
   "cell_type": "code",
   "execution_count": 3,
   "id": "115f8c07",
   "metadata": {},
   "outputs": [
    {
     "name": "stdout",
     "output_type": "stream",
     "text": [
      "10\n",
      "[1, 2, 3, 4, 5, 6, 7, 8, 9, 10, 6, 7, 7, 7, 8, 9, 9, 10, 10]\n"
     ]
    }
   ],
   "source": [
    "# Remove Duplicates from a Sorted Array\n",
    "# Brute full solution \n",
    "nums = [1,1,2,3,3,4,4,4,4,5,6,7,7,7,8,9,9,10,10]\n",
    "\n",
    "n = len(nums)\n",
    "freq_map = {}\n",
    "for i in range(0, n):\n",
    "    freq_map[nums[i]] = 0\n",
    "j = 0\n",
    "for k in freq_map:\n",
    "    nums[j] = k\n",
    "    j+=1\n",
    "\n",
    "print(j)\n",
    "print(nums)\n"
   ]
  },
  {
   "cell_type": "code",
   "execution_count": 5,
   "id": "cfc31758",
   "metadata": {},
   "outputs": [
    {
     "name": "stdout",
     "output_type": "stream",
     "text": [
      "9\n",
      "[1, 2, 3, 4, 5, 6, 7, 8, 9, 3, 1, 4, 7, 7, 4, 4]\n"
     ]
    }
   ],
   "source": [
    "# Optimal solution \n",
    "nums = [1,1,2,3,3,4,4,4,4,5,6,7,7,7,8,9]\n",
    "\n",
    "n = len(nums)\n",
    "if n ==1:\n",
    "    print(1)\n",
    "\n",
    "i = 0\n",
    "j = i+1\n",
    "while j< n:\n",
    "    if nums[j] != nums[i]:\n",
    "        i+=1\n",
    "        nums[i], nums[j] = nums[j], nums[i]\n",
    "    j +=1\n",
    "\n",
    "print(i+1)\n",
    "print(nums)"
   ]
  },
  {
   "cell_type": "code",
   "execution_count": null,
   "id": "85d52e0a",
   "metadata": {},
   "outputs": [],
   "source": []
  }
 ],
 "metadata": {
  "kernelspec": {
   "display_name": "myenv",
   "language": "python",
   "name": "python3"
  },
  "language_info": {
   "codemirror_mode": {
    "name": "ipython",
    "version": 3
   },
   "file_extension": ".py",
   "mimetype": "text/x-python",
   "name": "python",
   "nbconvert_exporter": "python",
   "pygments_lexer": "ipython3",
   "version": "3.9.23"
  }
 },
 "nbformat": 4,
 "nbformat_minor": 5
}
