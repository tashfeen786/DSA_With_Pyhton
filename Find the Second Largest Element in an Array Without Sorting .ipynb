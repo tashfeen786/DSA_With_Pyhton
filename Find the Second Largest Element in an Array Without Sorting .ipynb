{
 "cells": [
  {
   "cell_type": "code",
   "execution_count": null,
   "id": "19745d93",
   "metadata": {},
   "outputs": [],
   "source": [
    "# Broutfull solution \n",
    "nums = [45, 6, 8, 9,12, 90, -90, 87,76 ]\n",
    "nums.sort()\n",
    "n = len(nums)\n",
    "print(nums[-2])"
   ]
  },
  {
   "cell_type": "code",
   "execution_count": null,
   "id": "9e555313",
   "metadata": {},
   "outputs": [],
   "source": []
  }
 ],
 "metadata": {
  "kernelspec": {
   "display_name": "myenv",
   "language": "python",
   "name": "python3"
  },
  "language_info": {
   "name": "python",
   "version": "3.9.23"
  }
 },
 "nbformat": 4,
 "nbformat_minor": 5
}
