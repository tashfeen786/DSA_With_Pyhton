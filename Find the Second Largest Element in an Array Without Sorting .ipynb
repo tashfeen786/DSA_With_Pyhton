{
 "cells": [
  {
   "cell_type": "code",
   "execution_count": null,
   "id": "19745d93",
   "metadata": {},
   "outputs": [
    {
     "name": "stdout",
     "output_type": "stream",
     "text": [
      "87\n"
     ]
    }
   ],
   "source": [
    "# Brutefull solution \n",
    "nums = [45, 6, 8, 9,12, 90, -90, 87,76 ]\n",
    "nums.sort()\n",
    "n = len(nums)\n",
    "print(nums[-2])"
   ]
  },
  {
   "cell_type": "code",
   "execution_count": 2,
   "id": "9e555313",
   "metadata": {},
   "outputs": [
    {
     "name": "stdout",
     "output_type": "stream",
     "text": [
      "87\n"
     ]
    }
   ],
   "source": [
    "# Better solution \n",
    "largest = float('-infinity')\n",
    "Second_largest = float('-infinity')\n",
    "for i in range(0, n):\n",
    "    largest = max(largest, nums[i])\n",
    "\n",
    "for i in range(0, n):\n",
    "    if nums[i] > Second_largest and nums[i] != largest:\n",
    "        Second_largest = nums[i]\n",
    "print(Second_largest)"
   ]
  },
  {
   "cell_type": "code",
   "execution_count": 3,
   "id": "1ad8e464",
   "metadata": {},
   "outputs": [
    {
     "name": "stdout",
     "output_type": "stream",
     "text": [
      "87\n"
     ]
    }
   ],
   "source": [
    "# Optimal solution\n",
    "large = float('-infinity')\n",
    "S_large = float('-infinity')\n",
    "for i in range(0, n):\n",
    "    if nums[i]>large:\n",
    "        S_large = large\n",
    "        large = nums[i]\n",
    "    elif nums[i] > S_large and nums[i] != large:\n",
    "        S_large = nums[i]\n",
    "\n",
    "print(S_large)"
   ]
  }
 ],
 "metadata": {
  "kernelspec": {
   "display_name": "myenv",
   "language": "python",
   "name": "python3"
  },
  "language_info": {
   "codemirror_mode": {
    "name": "ipython",
    "version": 3
   },
   "file_extension": ".py",
   "mimetype": "text/x-python",
   "name": "python",
   "nbconvert_exporter": "python",
   "pygments_lexer": "ipython3",
   "version": "3.9.23"
  }
 },
 "nbformat": 4,
 "nbformat_minor": 5
}
