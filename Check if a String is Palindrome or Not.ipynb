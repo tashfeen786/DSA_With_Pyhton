{
 "cells": [
  {
   "cell_type": "code",
   "execution_count": 11,
   "id": "fb56a44e",
   "metadata": {},
   "outputs": [
    {
     "name": "stdout",
     "output_type": "stream",
     "text": [
      "Not a Palindrome\n"
     ]
    }
   ],
   "source": [
    "s = 'anbcddcba'\n",
    "n = len(s)\n",
    "left = 0\n",
    "right = n-1\n",
    "while left < right:\n",
    "    if s[left]!= s[right]:\n",
    "        print(\"Not a Palindrome\")\n",
    "        break\n",
    "    left += 1\n",
    "    right -= 1\n",
    "else:\n",
    "    print(\"Palindrome\")\n",
    "    print(s)"
   ]
  },
  {
   "cell_type": "code",
   "execution_count": 12,
   "id": "5c97bfde",
   "metadata": {},
   "outputs": [
    {
     "data": {
      "text/plain": [
       "False"
      ]
     },
     "execution_count": 12,
     "metadata": {},
     "output_type": "execute_result"
    }
   ],
   "source": [
    "def func(s, l , r):\n",
    "    if l >= r:\n",
    "        return True\n",
    "    if s[l] != s[r]:\n",
    "        return False\n",
    "    return func(s, l + 1, r - 1)\n",
    "\n",
    "func(s, 0, n-1) "
   ]
  }
 ],
 "metadata": {
  "kernelspec": {
   "display_name": "myenv",
   "language": "python",
   "name": "python3"
  },
  "language_info": {
   "codemirror_mode": {
    "name": "ipython",
    "version": 3
   },
   "file_extension": ".py",
   "mimetype": "text/x-python",
   "name": "python",
   "nbconvert_exporter": "python",
   "pygments_lexer": "ipython3",
   "version": "3.9.23"
  }
 },
 "nbformat": 4,
 "nbformat_minor": 5
}
