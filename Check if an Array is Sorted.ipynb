{
 "cells": [
  {
   "cell_type": "code",
   "execution_count": null,
   "id": "ca9506f3",
   "metadata": {},
   "outputs": [
    {
     "name": "stdout",
     "output_type": "stream",
     "text": [
      "Arrary is not Sorted....\n",
      "Arrary is Sorted\n"
     ]
    }
   ],
   "source": [
    "# Check if an Array is Sorted or not \n",
    "num = [2, 4, 7, 1, 9, 6, 8, 5, 3]\n",
    "\n",
    "n = len(num)\n",
    "is_sorted = \n",
    "for i in range(0, n-1):\n",
    "    if num[i] > num[i+1]:\n",
    "        print(\"Arrary is not Sorted....\")\n",
    "        break\n",
    "print(\"Arrary is Sorted\")"
   ]
  }
 ],
 "metadata": {
  "kernelspec": {
   "display_name": "myenv",
   "language": "python",
   "name": "python3"
  },
  "language_info": {
   "codemirror_mode": {
    "name": "ipython",
    "version": 3
   },
   "file_extension": ".py",
   "mimetype": "text/x-python",
   "name": "python",
   "nbconvert_exporter": "python",
   "pygments_lexer": "ipython3",
   "version": "3.9.23"
  }
 },
 "nbformat": 4,
 "nbformat_minor": 5
}
