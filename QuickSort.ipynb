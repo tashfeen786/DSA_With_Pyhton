{
 "cells": [
  {
   "cell_type": "code",
   "execution_count": null,
   "id": "aaa87d45",
   "metadata": {},
   "outputs": [],
   "source": [
    "# Quick Sort \n",
    "nums = [4, 1, 7, 6, 3, 2, 8]\n",
    "\n",
    "def partition(nums, low, high):\n",
    "    pivote = nums[low]\n",
    "    i = low, j = high\n",
    "    while i<j:\n",
    "        while nums[i]<=pivote and i<= high-1:\n",
    "            i+=1\n",
    "        while nums[j]>=pivote and j>=low+1:\n",
    "            j-=1\n",
    "        if i<j:\n",
    "            nums[i],nums[j]= nums[j], nums[i]\n",
    "    nums[low],nums[j]= nums[j], nums[low]\n",
    "    return j\n",
    "\n",
    "\n",
    "\n"
   ]
  }
 ],
 "metadata": {
  "kernelspec": {
   "display_name": "myenv",
   "language": "python",
   "name": "python3"
  },
  "language_info": {
   "name": "python",
   "version": "3.9.23"
  }
 },
 "nbformat": 4,
 "nbformat_minor": 5
}
