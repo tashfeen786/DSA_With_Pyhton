{
 "cells": [
  {
   "cell_type": "code",
   "execution_count": null,
   "id": "8af374f0",
   "metadata": {},
   "outputs": [],
   "source": [
    "class solution:\n",
    "    def func(num):\n",
    "        if num == 0 or num == 1:\n",
    "            return num\n",
    "        return func(num - 1) + func(num - 2)\n",
    "    def fib(self,n:int) -> int:\n",
    "        answer = self.func(6)"
   ]
  }
 ],
 "metadata": {
  "kernelspec": {
   "display_name": "myenv",
   "language": "python",
   "name": "python3"
  },
  "language_info": {
   "codemirror_mode": {
    "name": "ipython",
    "version": 3
   },
   "file_extension": ".py",
   "mimetype": "text/x-python",
   "name": "python",
   "nbconvert_exporter": "python",
   "pygments_lexer": "ipython3",
   "version": "3.9.23"
  }
 },
 "nbformat": 4,
 "nbformat_minor": 5
}
