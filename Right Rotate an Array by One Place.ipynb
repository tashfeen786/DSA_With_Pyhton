{
 "cells": [
  {
   "cell_type": "code",
   "execution_count": 2,
   "id": "a48a6f7f",
   "metadata": {},
   "outputs": [
    {
     "name": "stdout",
     "output_type": "stream",
     "text": [
      "[-2, 3, 6, 7, 9, 8, 5]\n"
     ]
    }
   ],
   "source": [
    "nums = [5, -2, 3, 6, 7, 9,8]\n",
    "n = len(nums)\n",
    "for i in range(n-1):\n",
    "    nums[:] = [nums[-1]] + nums [0: n-1]\n",
    "\n",
    "print(nums)"
   ]
  },
  {
   "cell_type": "code",
   "execution_count": 3,
   "id": "14f14d05",
   "metadata": {},
   "outputs": [
    {
     "name": "stdout",
     "output_type": "stream",
     "text": [
      "[8, 5, -2, 3, 6, 7, 9]\n"
     ]
    }
   ],
   "source": [
    "#Optimal Solution \n",
    "nums = [5, -2, 3, 6, 7, 9,8]\n",
    "temp = nums[n-1]\n",
    "\n",
    "for i in range (n-2, -1, -1):\n",
    "    nums[i+1] = nums[i]\n",
    "nums[0] = temp\n",
    "\n",
    "print(nums)\n"
   ]
  },
  {
   "cell_type": "code",
   "execution_count": null,
   "id": "ecc80d47",
   "metadata": {},
   "outputs": [],
   "source": []
  }
 ],
 "metadata": {
  "kernelspec": {
   "display_name": "myenv",
   "language": "python",
   "name": "python3"
  },
  "language_info": {
   "codemirror_mode": {
    "name": "ipython",
    "version": 3
   },
   "file_extension": ".py",
   "mimetype": "text/x-python",
   "name": "python",
   "nbconvert_exporter": "python",
   "pygments_lexer": "ipython3",
   "version": "3.9.23"
  }
 },
 "nbformat": 4,
 "nbformat_minor": 5
}
