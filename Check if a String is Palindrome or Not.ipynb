{
 "cells": [
  {
   "cell_type": "code",
   "execution_count": 9,
   "id": "fb56a44e",
   "metadata": {},
   "outputs": [
    {
     "name": "stdout",
     "output_type": "stream",
     "text": [
      "Palindrome\n",
      "anbcddcbna\n"
     ]
    }
   ],
   "source": [
    "s = 'anbcddcbna'\n",
    "n = len(s)\n",
    "left = 0\n",
    "right = n-1\n",
    "while left < right:\n",
    "    if s[left]!= s[right]:\n",
    "        print(\"Not a Palindrome\")\n",
    "        break\n",
    "    left += 1\n",
    "    right -= 1\n",
    "else:\n",
    "    print(\"Palindrome\")\n",
    "    print(s)"
   ]
  }
 ],
 "metadata": {
  "kernelspec": {
   "display_name": "myenv",
   "language": "python",
   "name": "python3"
  },
  "language_info": {
   "codemirror_mode": {
    "name": "ipython",
    "version": 3
   },
   "file_extension": ".py",
   "mimetype": "text/x-python",
   "name": "python",
   "nbconvert_exporter": "python",
   "pygments_lexer": "ipython3",
   "version": "3.9.23"
  }
 },
 "nbformat": 4,
 "nbformat_minor": 5
}
