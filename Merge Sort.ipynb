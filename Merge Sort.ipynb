{
 "cells": [
  {
   "cell_type": "code",
   "execution_count": 2,
   "id": "6816e46c",
   "metadata": {},
   "outputs": [],
   "source": [
    "# merge to sorted arrays \n",
    "left = [1, 2, 3, 4]\n",
    "right = [1, 3, 5, 6, 7, 8]\n",
    "\n",
    "def merge_array(left, right):\n",
    "    result = []\n",
    "    i, j = 0, 0\n",
    "    n, m = len[left], len[right]\n",
    "    while i<n and j<m:\n",
    "        if left[i] < right[j]:\n",
    "            result.append(left[i])\n",
    "            i+=1\n",
    "        else:\n",
    "            result.append(right[j])\n",
    "            j+=1\n",
    "    if i<n:\n",
    "        while i<n:\n",
    "            result.append(left[i])\n",
    "            i+=1\n",
    "    if j<n:\n",
    "        while j<m:\n",
    "            result.append(right[j])\n",
    "            j+=1\n",
    "    \n",
    "    return result"
   ]
  },
  {
   "cell_type": "code",
   "execution_count": 6,
   "id": "83456298",
   "metadata": {},
   "outputs": [
    {
     "name": "stdout",
     "output_type": "stream",
     "text": [
      "[1, 2, 3, 4, 5, 5, 6, 8, 9]\n"
     ]
    }
   ],
   "source": [
    "array = [3,1,2,4,5,8,9,6,5]\n",
    "def merge_array(left, right):\n",
    "    result = []\n",
    "    i = j =0\n",
    "    while i< len(left) and j< len(right):\n",
    "        if left[i] <= right[j]:\n",
    "            result.append(left[i])\n",
    "            i+=1\n",
    "        else:\n",
    "            result.append(right[j])\n",
    "            j+=1\n",
    "    result.extend(left[i:])\n",
    "    result.extend(right[j:])\n",
    "    return result\n",
    "\n",
    "def merge_sort(arry):\n",
    "    if len(arry)<= 1:\n",
    "        return arry\n",
    "    mid = len(arry)//2\n",
    "    left_arry = arry [:mid]\n",
    "    right_arry = arry [mid:]\n",
    "    left = merge_sort(left_arry)\n",
    "    right = merge_sort(right_arry)\n",
    "    return merge_array(left, right)\n",
    "\n",
    "print(merge_sort(array))\n",
    "\n"
   ]
  }
 ],
 "metadata": {
  "kernelspec": {
   "display_name": "myenv",
   "language": "python",
   "name": "python3"
  },
  "language_info": {
   "codemirror_mode": {
    "name": "ipython",
    "version": 3
   },
   "file_extension": ".py",
   "mimetype": "text/x-python",
   "name": "python",
   "nbconvert_exporter": "python",
   "pygments_lexer": "ipython3",
   "version": "3.9.23"
  }
 },
 "nbformat": 4,
 "nbformat_minor": 5
}
