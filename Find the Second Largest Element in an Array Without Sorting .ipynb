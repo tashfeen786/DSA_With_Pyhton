{
 "cells": [
  {
   "cell_type": "code",
   "execution_count": null,
   "id": "19745d93",
   "metadata": {},
   "outputs": [],
   "source": [
    "# Brustfull solution \n",
    "nums = [45, 6, 8, 9,12, 90, -90, 87,76 ]\n"
   ]
  }
 ],
 "metadata": {
  "language_info": {
   "name": "python"
  }
 },
 "nbformat": 4,
 "nbformat_minor": 5
}
