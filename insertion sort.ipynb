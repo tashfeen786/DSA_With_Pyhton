{
 "cells": [
  {
   "cell_type": "code",
   "execution_count": null,
   "id": "09d2767d",
   "metadata": {},
   "outputs": [],
   "source": [
    "nums = [3, 5,4, 7, 8,10, 9,2,6,1]\n",
    "n = len(nums)\n",
    "for i in range(1,n):\n",
    "    key = nums[i]\n",
    "    j = i-1\n",
    "    while j>= 0 and nums[j]> key:\n",
    "        \n",
    "\n",
    "\n",
    "    nums[j+1] = key"
   ]
  }
 ],
 "metadata": {
  "language_info": {
   "name": "python"
  }
 },
 "nbformat": 4,
 "nbformat_minor": 5
}
